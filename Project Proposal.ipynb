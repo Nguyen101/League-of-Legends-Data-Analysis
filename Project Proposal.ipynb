{
 "cells": [
  {
   "cell_type": "markdown",
   "metadata": {},
   "source": [
    "# League of Legends Ranked Solo Queue Data Analysis (EUW 2021)\n",
    "### By: Vy Nguyen and Daniel Strub\n",
    "# Dataset description\n",
    "1. The source of the dataset used for this project is on [Kaggle: League of Legends Ranked Games 2021](https://www.kaggle.com/gyejr95/league-of-legendslol-ranked-games-2020-ver1?select=match_winner_data_version1.csv). It is a CSV file of ranked matches from primarily silver to platinum ranking on the EUW server.\n",
    "2. This project will be attempting to predict if team 1(blue side) will win the game. Attributes that will be used to predict this are: first kill, first tower, first dragon, first baron, and first elder\n",
    "\n",
    "# Implementation/technical merit\n",
    "\n",
    "1. The accuracy of our classifier may be impacted by smurfs (high ranking players who create low rank accounts), players disconnecting (creating a 4 vs 5 scenario), and the accuracy of the matchmaking system.\n",
    "\n",
    "# Potential impact of results\n",
    "2. The results of this project will help players to know what objective to prioritize in order to increase their chances of winning the game\n",
    "3. Stakeholders for this project include League of Legends players and the League of Legends development and balance teams.\n"
   ]
  }
 ],
 "metadata": {
  "kernelspec": {
   "display_name": "Python 3",
   "language": "python",
   "name": "python3"
  },
  "language_info": {
   "codemirror_mode": {
    "name": "ipython",
    "version": 3
   },
   "file_extension": ".py",
   "mimetype": "text/x-python",
   "name": "python",
   "nbconvert_exporter": "python",
   "pygments_lexer": "ipython3",
   "version": "3.8.5"
  }
 },
 "nbformat": 4,
 "nbformat_minor": 4
}
