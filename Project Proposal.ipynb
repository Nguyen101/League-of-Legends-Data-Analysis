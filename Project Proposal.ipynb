{
 "metadata": {
  "language_info": {
   "codemirror_mode": {
    "name": "ipython",
    "version": 3
   },
   "file_extension": ".py",
   "mimetype": "text/x-python",
   "name": "python",
   "nbconvert_exporter": "python",
   "pygments_lexer": "ipython3",
   "version": 3
  },
  "orig_nbformat": 2
 },
 "nbformat": 4,
 "nbformat_minor": 2,
 "cells": [
  {
   "source": [
    "# League of Legends Ranked Solo Queue Data Analysis (EUW 2021)\n",
    "### By: Vy Nguyen and Daniel Strub\n",
    "\n",
    "\n",
    "The source of the dataset used for this project is on Kaggle: League of Legends Ranked Games 2021 | Kaggle. It is a CSV file of ranked matches from primarily silver to platinum ranking on the EUW server.\n",
    "\n",
    "\n",
    "This project will be attempting to predict if team 1(blue side) will win the game. Attributes that will be used to predict this are: first kill, first tower, first dragon, first baron, and first elder\n",
    "\n",
    "\n",
    "The accuracy of our classifier may be impacted by smurfs (high ranking players who create low rank accounts), players disconnecting (creating a 4 vs 5 scenario), and the accuracy of the matchmaking system.\n",
    "\n",
    "\n",
    "The results of this project will help players to know what objective to prioritize in order to increase their chances of winning the game\n",
    "\n",
    "\n",
    "Stakeholders for this project include League of Legends players and the League of Legends development and balance teams.\n"
   ],
   "cell_type": "markdown",
   "metadata": {}
  }
 ]
}