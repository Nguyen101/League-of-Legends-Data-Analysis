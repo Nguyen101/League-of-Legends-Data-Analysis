{
 "cells": [
  {
   "cell_type": "markdown",
   "metadata": {},
   "source": [
    "# League of Legends Analysis\n",
    "# Vy Nguyen and Daniel Strub\n",
    "# CPSC 322"
   ]
  },
  {
   "cell_type": "code",
   "execution_count": 49,
   "metadata": {},
   "outputs": [],
   "source": [
    "import importlib\n",
    "import os\n",
    "import copy\n",
    "import random\n",
    "from tabulate import tabulate\n",
    "\n",
    "import mysklearn.myutils\n",
    "importlib.reload(mysklearn.myutils)\n",
    "import mysklearn.myutils as myutils\n",
    "\n",
    "import mysklearn.mypytable\n",
    "importlib.reload(mysklearn.mypytable)\n",
    "from mysklearn.mypytable import MyPyTable \n",
    "\n",
    "import mysklearn.myclassifiers\n",
    "importlib.reload(mysklearn.myclassifiers)\n",
    "from mysklearn.myclassifiers import MyKNeighborsClassifier, MySimpleLinearRegressor, MyNaiveBayesClassifier, MyDecisionTreeClassifier, MyRandomForestClassifier\n",
    "\n",
    "import mysklearn.myevaluation\n",
    "importlib.reload(mysklearn.myevaluation)\n",
    "import mysklearn.myevaluation as myevaluation"
   ]
  },
  {
   "cell_type": "code",
   "execution_count": 50,
   "metadata": {},
   "outputs": [],
   "source": [
    "game_fname = os.path.join(\"input_data\", \"games_small.csv\")\n",
    "game_table = MyPyTable()\n",
    "game_table.load_from_file(game_fname)\n",
    "\n",
    "winner = game_table.get_column(\"winner\")\n",
    "first_Blood = game_table.get_column(\"firstBlood\")\n",
    "first_Tower = game_table.get_column(\"firstTower\")\n",
    "first_Inhibitor = game_table.get_column(\"firstInhibitor\")\n",
    "first_Baron = game_table.get_column(\"firstBaron\")\n",
    "first_Dragon = game_table.get_column(\"firstDragon\")\n",
    "first_RiftHerald = game_table.get_column(\"firstRiftHerald\")\n",
    "\n",
    "game_X = [[first_Blood[x], first_Tower[x], first_Inhibitor[x], first_Baron[x], first_Dragon[x], first_RiftHerald[x]] for x in range(len(winner))]\n",
    "game_Y = [y for y in winner]\n"
   ]
  },
  {
   "cell_type": "code",
   "execution_count": 51,
   "metadata": {},
   "outputs": [
    {
     "output_type": "stream",
     "name": "stdout",
     "text": [
      "58.56% of games with first Blood are won\n68.92% of games with first Tower are won\n79.83% of games with first Inhibitor are won\n49.1% of games with first Baron are won\n65.6% of games with first Dragon are won\n34.0% of games with first Rift Herald are won\n"
     ]
    }
   ],
   "source": [
    "print(str(round(myutils.get_win_count(game_table, \"winner\", \"firstBlood\") * 100, 2)) + \"% of games with first Blood are won\")\n",
    "\n",
    "print(str(round(myutils.get_win_count(game_table, \"winner\", \"firstTower\") * 100, 2)) + \"% of games with first Tower are won\")\n",
    "\n",
    "print(str(round(myutils.get_win_count(game_table, \"winner\", \"firstInhibitor\") * 100, 2)) + \"% of games with first Inhibitor are won\")\n",
    "\n",
    "print(str(round(myutils.get_win_count(game_table, \"winner\", \"firstBaron\") * 100, 2)) + \"% of games with first Baron are won\")\n",
    "\n",
    "print(str(round(myutils.get_win_count(game_table, \"winner\", \"firstDragon\") * 100, 2)) + \"% of games with first Dragon are won\")\n",
    "\n",
    "print(str(round(myutils.get_win_count(game_table, \"winner\", \"firstRiftHerald\") * 100, 2)) + \"% of games with first Rift Herald are won\")"
   ]
  },
  {
   "source": [
    "# KNNeightbors\n",
    "test_size = 2000\n",
    "X_train, X_test, y_train, y_test = myevaluation.train_test_split(copy.deepcopy(game_X), copy.deepcopy(game_Y), test_size=test_size, shuffle=True)\n",
    "\n",
    "knn = MyKNeighborsClassifier()\n",
    "knn.fit(X_train, y_train)\n",
    "predictions = []\n",
    "for i, x in enumerate(X_test):\n",
    "    prediction = knn.predict([x])\n",
    "    predictions.append(prediction[0])\n",
    "\n",
    "acc = round(sum([int(x==y) for x,y in zip(predictions, y_test)])/len(predictions), 2)\n",
    "print(\"KNN:\" )\n",
    "print(\"Accuracy = \" + str(acc))\n",
    "print(\"Error rate = \" + str(1-acc))"
   ],
   "cell_type": "code",
   "metadata": {},
   "execution_count": 43,
   "outputs": [
    {
     "output_type": "stream",
     "name": "stdout",
     "text": [
      "KNN:\nAccuracy = 0.49\nError rate = 0.51\n"
     ]
    }
   ]
  },
  {
   "cell_type": "code",
   "execution_count": 47,
   "metadata": {},
   "outputs": [
    {
     "output_type": "stream",
     "name": "stdout",
     "text": [
      "KNN Classifier (Train Test Split)\n  Team     1    2    total    recognition (%)\n------  ----  ---  -------  -----------------\n     1   981    0      981                100\n     2  1019    0     1019                  0\n"
     ]
    }
   ],
   "source": [
    "headers = [\"Team\", \"1\", \"2\", \"total\", \"recognition (%)\"]\n",
    "mat = myevaluation.confusion_matrix(y_test, predictions, [1.0, 2.0])\n",
    "myutils.build_confusion_matrix(mat)\n",
    "print(\"KNN Classifier (Train Test Split)\")\n",
    "print(tabulate(mat, headers))"
   ]
  },
  {
   "cell_type": "code",
   "execution_count": 5,
   "metadata": {},
   "outputs": [
    {
     "output_type": "stream",
     "name": "stdout",
     "text": [
      "Naive Bayes: \nAccuracy = 0.88\nError rate = 0.12\n"
     ]
    }
   ],
   "source": [
    "test_size = 2000\n",
    "\n",
    "X_train, X_test, y_train, y_test = myevaluation.train_test_split(copy.deepcopy(game_X), copy.deepcopy(game_Y), test_size=test_size, shuffle=True)\n",
    "\n",
    "nb = MyNaiveBayesClassifier()\n",
    "nb.fit(X_train, y_train)\n",
    "predictions = []\n",
    "for i, x in enumerate(X_test):\n",
    "    prediction = nb.predict([x])\n",
    "    predictions.append(prediction[0])\n",
    "acc = round(sum([int(x==y) for x,y in zip(predictions, y_test)])/len(predictions), 2)\n",
    "print(\"Naive Bayes: \")\n",
    "print(\"Accuracy = \" + str(acc))\n",
    "print(\"Error rate = \" + str(1-acc))"
   ]
  },
  {
   "cell_type": "code",
   "execution_count": 48,
   "metadata": {},
   "outputs": [
    {
     "output_type": "stream",
     "name": "stdout",
     "text": [
      "KNN Classifier (Train Test Split)\n  Team     1    2    total    recognition (%)\n------  ----  ---  -------  -----------------\n     1   981    0      981                100\n     2  1019    0     1019                  0\n"
     ]
    }
   ],
   "source": [
    "headers = [\"Team\", \"1\", \"2\", \"total\", \"recognition (%)\"]\n",
    "mat = myevaluation.confusion_matrix(y_test, predictions, [1.0, 2.0])\n",
    "myutils.build_confusion_matrix(mat)\n",
    "print(\"Naive Bayes Classifier (Train Test Split)\")\n",
    "print(tabulate(mat, headers))"
   ]
  },
  {
   "cell_type": "code",
   "execution_count": 17,
   "metadata": {},
   "outputs": [
    {
     "output_type": "stream",
     "name": "stdout",
     "text": [
      "F: 4 N: 19 M: 16 Accuracy: 0.893\n",
      "F: 5 N: 14 M: 6 Accuracy: 0.893\n",
      "F: 8 N: 15 M: 15 Accuracy: 0.8915\n",
      "F: 10 N: 11 M: 4 Accuracy: 0.8935\n",
      "F: 3 N: 17 M: 5 Accuracy: 0.893\n",
      "F: 10 N: 20 M: 8 Accuracy: 0.8945\n",
      "F: 2 N: 11 M: 5 Accuracy: 0.8935\n",
      "F: 10 N: 17 M: 13 Accuracy: 0.893\n",
      "F: 3 N: 14 M: 9 Accuracy: 0.8925\n",
      "F: 8 N: 13 M: 2 Accuracy: 0.8935\n",
      "F: 4 N: 10 M: 8 Accuracy: 0.894\n",
      "F: 3 N: 11 M: 3 Accuracy: 0.894\n",
      "F: 4 N: 20 M: 4 Accuracy: 0.8915\n",
      "F: 2 N: 13 M: 13 Accuracy: 0.893\n",
      "F: 2 N: 11 M: 1 Accuracy: 0.894\n",
      "F: 7 N: 19 M: 12 Accuracy: 0.892\n",
      "F: 9 N: 11 M: 3 Accuracy: 0.894\n",
      "F: 9 N: 16 M: 9 Accuracy: 0.893\n",
      "F: 3 N: 14 M: 7 Accuracy: 0.8925\n",
      "F: 10 N: 20 M: 10 Accuracy: 0.8935\n"
     ]
    }
   ],
   "source": [
    "X_train, X_test, y_train, y_test = myevaluation.train_test_split(copy.deepcopy(game_X), copy.deepcopy(game_Y), test_size=2000)\n",
    "\n",
    "best_trees = []\n",
    "min_accuracy = .50\n",
    "\n",
    "for i in range(20):\n",
    "    F = random.randint(1,10)\n",
    "    N = random.randint(10,20)\n",
    "    M = random.randint(1,N)\n",
    "\n",
    "    rf = MyRandomForestClassifier()\n",
    "    rf.fit(game_X, game_Y, N=5, M=4, F=1)\n",
    "\n",
    "    predictions = []\n",
    "    for i, x in enumerate(X_test):\n",
    "        prediction = rf.predict([x])\n",
    "        predictions.append(int(prediction[0] == y_test[i]))\n",
    "    if sum(predictions)/len(predictions) > min_accuracy:\n",
    "        print(\"F:\", F, \"N:\", N, \"M:\", M, \"Accuracy:\", sum(predictions)/len(predictions))\n",
    "        f = open(\"best_tree.txt\", \"w\")\n",
    "        f.write(str(rf.trees))\n",
    "        f.close()\n",
    "        max_accuracy = sum(predictions)/len(predictions)\n",
    "        best_trees = rf.trees"
   ]
  },
  {
   "cell_type": "code",
   "execution_count": 10,
   "metadata": {},
   "outputs": [],
   "source": [
    "import ast\n",
    "\n",
    "if best_trees == []:\n",
    "    with open(\"best_tree.txt\", \"r\") as data:\n",
    "        best_trees = ast.literal_eval(data.read())"
   ]
  },
  {
   "cell_type": "code",
   "execution_count": 11,
   "metadata": {},
   "outputs": [
    {
     "output_type": "stream",
     "name": "stdout",
     "text": [
      "Random Forest\nAccuracy =  0.89\nError Rate = 0.10999999999999999\n"
     ]
    }
   ],
   "source": [
    "test_size = 2000\n",
    "\n",
    "X_train, X_test, y_train, y_test = myevaluation.train_test_split(copy.deepcopy(game_X), copy.deepcopy(game_Y), test_size=test_size, shuffle=True)\n",
    "\n",
    "rf = MyRandomForestClassifier()\n",
    "rf.trees = copy.deepcopy(best_trees)\n",
    "predictions = []\n",
    "for i, x in enumerate(X_test):\n",
    "    prediction = rf.predict([x])\n",
    "    predictions.append(prediction[0])\n",
    "\n",
    "acc = round(sum([int(x==y) for x,y in zip(predictions, y_test)])/len(predictions), 2)\n",
    "print(\"Random Forest\")\n",
    "print(\"Accuracy = \", acc)\n",
    "print(\"Error Rate =\", str(1-acc))"
   ]
  },
  {
   "cell_type": "code",
   "execution_count": null,
   "metadata": {},
   "outputs": [],
   "source": [
    "headers = [\"Team\", \"1\", \"2\", \"total\", \"recognition (%)\"]\n",
    "mat = myevaluation.confusion_matrix(y_test, predictions, [1.0, 2.0])\n",
    "myutils.build_confusion_matrix(mat)\n",
    "print(\"Random Forest Classifier (Train Test Split)\")\n",
    "print(tabulate(mat, headers))"
   ]
  }
 ],
 "metadata": {
  "kernelspec": {
   "name": "python385jvsc74a57bd098b0a9b7b4eaaa670588a142fd0a9b87eaafe866f1db4228be72b4211d12040f",
   "display_name": "Python 3.8.5 64-bit"
  },
  "language_info": {
   "codemirror_mode": {
    "name": "ipython",
    "version": 3
   },
   "file_extension": ".py",
   "mimetype": "text/x-python",
   "name": "python",
   "nbconvert_exporter": "python",
   "pygments_lexer": "ipython3",
   "version": "3.8.5"
  }
 },
 "nbformat": 4,
 "nbformat_minor": 4
}